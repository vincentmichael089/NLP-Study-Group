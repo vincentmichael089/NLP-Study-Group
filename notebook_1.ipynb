{
  "nbformat": 4,
  "nbformat_minor": 0,
  "metadata": {
    "colab": {
      "name": "NLP_SG_1.ipynb",
      "provenance": [],
      "collapsed_sections": []
    },
    "kernelspec": {
      "name": "python3",
      "display_name": "Python 3"
    },
    "language_info": {
      "name": "python"
    }
  },
  "cells": [
    {
      "cell_type": "markdown",
      "source": [
        "### Connect to Drive and importing dependencies"
      ],
      "metadata": {
        "id": "KfbbByKpZO1c"
      }
    },
    {
      "cell_type": "code",
      "execution_count": 1,
      "metadata": {
        "colab": {
          "base_uri": "https://localhost:8080/"
        },
        "id": "DpwGeIoaxY2J",
        "outputId": "e346a6b0-a22f-4da6-fc18-925fe26be83a"
      },
      "outputs": [
        {
          "output_type": "stream",
          "name": "stdout",
          "text": [
            "Mounted at /content/drive\n"
          ]
        }
      ],
      "source": [
        "from google.colab import drive\n",
        "drive.mount('/content/drive', force_remount=True)"
      ]
    },
    {
      "cell_type": "code",
      "source": [
        "pip install swifter"
      ],
      "metadata": {
        "id": "DLKxKPuTx2Kz"
      },
      "execution_count": null,
      "outputs": []
    },
    {
      "cell_type": "code",
      "source": [
        "import pandas as pd\n",
        "import numpy as np\n",
        "import re\n",
        "import swifter\n",
        "from tqdm import tqdm\n",
        "import math\n",
        "import statistics"
      ],
      "metadata": {
        "id": "vxxZgCc_xun0"
      },
      "execution_count": 3,
      "outputs": []
    },
    {
      "cell_type": "markdown",
      "source": [
        "### Read the data"
      ],
      "metadata": {
        "id": "up8D-TBAZTBV"
      }
    },
    {
      "cell_type": "code",
      "source": [
        "pathTrain = \"/content/drive/MyDrive/NLP Study Group/Problem 1/train.txt\"\n",
        "pathTest = \"/content/drive/MyDrive/NLP Study Group/Problem 1/test.txt\""
      ],
      "metadata": {
        "id": "fBw9RhzPx4l1"
      },
      "execution_count": 4,
      "outputs": []
    },
    {
      "cell_type": "code",
      "source": [
        "train = pd.read_csv(pathTrain, names=['text'], sep = \"\\n\")\n",
        "test = pd.read_csv(pathTest, names=['text'],  sep = \"\\n\")\n",
        "display(train)\n",
        "display(test)"
      ],
      "metadata": {
        "colab": {
          "base_uri": "https://localhost:8080/",
          "height": 830
        },
        "id": "kWDLBY_hx6YI",
        "outputId": "7ade0c46-f893-4831-da99-212aca6bc57b"
      },
      "execution_count": 5,
      "outputs": [
        {
          "output_type": "display_data",
          "data": {
            "text/html": [
              "\n",
              "  <div id=\"df-8c60e36a-b05c-418c-a9c1-617bcad4c480\">\n",
              "    <div class=\"colab-df-container\">\n",
              "      <div>\n",
              "<style scoped>\n",
              "    .dataframe tbody tr th:only-of-type {\n",
              "        vertical-align: middle;\n",
              "    }\n",
              "\n",
              "    .dataframe tbody tr th {\n",
              "        vertical-align: top;\n",
              "    }\n",
              "\n",
              "    .dataframe thead th {\n",
              "        text-align: right;\n",
              "    }\n",
              "</style>\n",
              "<table border=\"1\" class=\"dataframe\">\n",
              "  <thead>\n",
              "    <tr style=\"text-align: right;\">\n",
              "      <th></th>\n",
              "      <th>text</th>\n",
              "    </tr>\n",
              "  </thead>\n",
              "  <tbody>\n",
              "    <tr>\n",
              "      <th>0</th>\n",
              "      <td>Natural language processing -LRB- NLP -RRB- is...</td>\n",
              "    </tr>\n",
              "    <tr>\n",
              "      <th>1</th>\n",
              "      <td>Specifically , it is the process of a computer...</td>\n",
              "    </tr>\n",
              "    <tr>\n",
              "      <th>2</th>\n",
              "      <td>In theory , natural language processing is a v...</td>\n",
              "    </tr>\n",
              "    <tr>\n",
              "      <th>3</th>\n",
              "      <td>Natural language understanding is sometimes re...</td>\n",
              "    </tr>\n",
              "    <tr>\n",
              "      <th>4</th>\n",
              "      <td>Whether NLP is distinct from , or identical to...</td>\n",
              "    </tr>\n",
              "    <tr>\n",
              "      <th>...</th>\n",
              "      <td>...</td>\n",
              "    </tr>\n",
              "    <tr>\n",
              "      <th>1296</th>\n",
              "      <td>When punctuation and similar clues are not con...</td>\n",
              "    </tr>\n",
              "    <tr>\n",
              "      <th>1297</th>\n",
              "      <td>Effective natural language processing systems ...</td>\n",
              "    </tr>\n",
              "    <tr>\n",
              "      <th>1298</th>\n",
              "      <td>As an example , processing text used in medica...</td>\n",
              "    </tr>\n",
              "    <tr>\n",
              "      <th>1299</th>\n",
              "      <td>The process of developing text segmentation to...</td>\n",
              "    </tr>\n",
              "    <tr>\n",
              "      <th>1300</th>\n",
              "      <td>There are two general approaches : Manual anal...</td>\n",
              "    </tr>\n",
              "  </tbody>\n",
              "</table>\n",
              "<p>1301 rows × 1 columns</p>\n",
              "</div>\n",
              "      <button class=\"colab-df-convert\" onclick=\"convertToInteractive('df-8c60e36a-b05c-418c-a9c1-617bcad4c480')\"\n",
              "              title=\"Convert this dataframe to an interactive table.\"\n",
              "              style=\"display:none;\">\n",
              "        \n",
              "  <svg xmlns=\"http://www.w3.org/2000/svg\" height=\"24px\"viewBox=\"0 0 24 24\"\n",
              "       width=\"24px\">\n",
              "    <path d=\"M0 0h24v24H0V0z\" fill=\"none\"/>\n",
              "    <path d=\"M18.56 5.44l.94 2.06.94-2.06 2.06-.94-2.06-.94-.94-2.06-.94 2.06-2.06.94zm-11 1L8.5 8.5l.94-2.06 2.06-.94-2.06-.94L8.5 2.5l-.94 2.06-2.06.94zm10 10l.94 2.06.94-2.06 2.06-.94-2.06-.94-.94-2.06-.94 2.06-2.06.94z\"/><path d=\"M17.41 7.96l-1.37-1.37c-.4-.4-.92-.59-1.43-.59-.52 0-1.04.2-1.43.59L10.3 9.45l-7.72 7.72c-.78.78-.78 2.05 0 2.83L4 21.41c.39.39.9.59 1.41.59.51 0 1.02-.2 1.41-.59l7.78-7.78 2.81-2.81c.8-.78.8-2.07 0-2.86zM5.41 20L4 18.59l7.72-7.72 1.47 1.35L5.41 20z\"/>\n",
              "  </svg>\n",
              "      </button>\n",
              "      \n",
              "  <style>\n",
              "    .colab-df-container {\n",
              "      display:flex;\n",
              "      flex-wrap:wrap;\n",
              "      gap: 12px;\n",
              "    }\n",
              "\n",
              "    .colab-df-convert {\n",
              "      background-color: #E8F0FE;\n",
              "      border: none;\n",
              "      border-radius: 50%;\n",
              "      cursor: pointer;\n",
              "      display: none;\n",
              "      fill: #1967D2;\n",
              "      height: 32px;\n",
              "      padding: 0 0 0 0;\n",
              "      width: 32px;\n",
              "    }\n",
              "\n",
              "    .colab-df-convert:hover {\n",
              "      background-color: #E2EBFA;\n",
              "      box-shadow: 0px 1px 2px rgba(60, 64, 67, 0.3), 0px 1px 3px 1px rgba(60, 64, 67, 0.15);\n",
              "      fill: #174EA6;\n",
              "    }\n",
              "\n",
              "    [theme=dark] .colab-df-convert {\n",
              "      background-color: #3B4455;\n",
              "      fill: #D2E3FC;\n",
              "    }\n",
              "\n",
              "    [theme=dark] .colab-df-convert:hover {\n",
              "      background-color: #434B5C;\n",
              "      box-shadow: 0px 1px 3px 1px rgba(0, 0, 0, 0.15);\n",
              "      filter: drop-shadow(0px 1px 2px rgba(0, 0, 0, 0.3));\n",
              "      fill: #FFFFFF;\n",
              "    }\n",
              "  </style>\n",
              "\n",
              "      <script>\n",
              "        const buttonEl =\n",
              "          document.querySelector('#df-8c60e36a-b05c-418c-a9c1-617bcad4c480 button.colab-df-convert');\n",
              "        buttonEl.style.display =\n",
              "          google.colab.kernel.accessAllowed ? 'block' : 'none';\n",
              "\n",
              "        async function convertToInteractive(key) {\n",
              "          const element = document.querySelector('#df-8c60e36a-b05c-418c-a9c1-617bcad4c480');\n",
              "          const dataTable =\n",
              "            await google.colab.kernel.invokeFunction('convertToInteractive',\n",
              "                                                     [key], {});\n",
              "          if (!dataTable) return;\n",
              "\n",
              "          const docLinkHtml = 'Like what you see? Visit the ' +\n",
              "            '<a target=\"_blank\" href=https://colab.research.google.com/notebooks/data_table.ipynb>data table notebook</a>'\n",
              "            + ' to learn more about interactive tables.';\n",
              "          element.innerHTML = '';\n",
              "          dataTable['output_type'] = 'display_data';\n",
              "          await google.colab.output.renderOutput(dataTable, element);\n",
              "          const docLink = document.createElement('div');\n",
              "          docLink.innerHTML = docLinkHtml;\n",
              "          element.appendChild(docLink);\n",
              "        }\n",
              "      </script>\n",
              "    </div>\n",
              "  </div>\n",
              "  "
            ],
            "text/plain": [
              "                                                   text\n",
              "0     Natural language processing -LRB- NLP -RRB- is...\n",
              "1     Specifically , it is the process of a computer...\n",
              "2     In theory , natural language processing is a v...\n",
              "3     Natural language understanding is sometimes re...\n",
              "4     Whether NLP is distinct from , or identical to...\n",
              "...                                                 ...\n",
              "1296  When punctuation and similar clues are not con...\n",
              "1297  Effective natural language processing systems ...\n",
              "1298  As an example , processing text used in medica...\n",
              "1299  The process of developing text segmentation to...\n",
              "1300  There are two general approaches : Manual anal...\n",
              "\n",
              "[1301 rows x 1 columns]"
            ]
          },
          "metadata": {}
        },
        {
          "output_type": "display_data",
          "data": {
            "text/html": [
              "\n",
              "  <div id=\"df-37a5bcf0-77ff-4fec-89b6-0a67a815ae09\">\n",
              "    <div class=\"colab-df-container\">\n",
              "      <div>\n",
              "<style scoped>\n",
              "    .dataframe tbody tr th:only-of-type {\n",
              "        vertical-align: middle;\n",
              "    }\n",
              "\n",
              "    .dataframe tbody tr th {\n",
              "        vertical-align: top;\n",
              "    }\n",
              "\n",
              "    .dataframe thead th {\n",
              "        text-align: right;\n",
              "    }\n",
              "</style>\n",
              "<table border=\"1\" class=\"dataframe\">\n",
              "  <thead>\n",
              "    <tr style=\"text-align: right;\">\n",
              "      <th></th>\n",
              "      <th>text</th>\n",
              "    </tr>\n",
              "  </thead>\n",
              "  <tbody>\n",
              "    <tr>\n",
              "      <th>0</th>\n",
              "      <td>In computational linguistics , word-sense disa...</td>\n",
              "    </tr>\n",
              "    <tr>\n",
              "      <th>1</th>\n",
              "      <td>The solution to this problem impacts other com...</td>\n",
              "    </tr>\n",
              "    <tr>\n",
              "      <th>2</th>\n",
              "      <td>Research has progressed steadily to the point ...</td>\n",
              "    </tr>\n",
              "    <tr>\n",
              "      <th>3</th>\n",
              "      <td>A rich variety of techniques have been researc...</td>\n",
              "    </tr>\n",
              "    <tr>\n",
              "      <th>4</th>\n",
              "      <td>Among these , supervised learning approaches h...</td>\n",
              "    </tr>\n",
              "    <tr>\n",
              "      <th>...</th>\n",
              "      <td>...</td>\n",
              "    </tr>\n",
              "    <tr>\n",
              "      <th>166</th>\n",
              "      <td>WordNet is the most popular example of sense i...</td>\n",
              "    </tr>\n",
              "    <tr>\n",
              "      <th>167</th>\n",
              "      <td>The reason for adopting the HECTOR database du...</td>\n",
              "    </tr>\n",
              "    <tr>\n",
              "      <th>168</th>\n",
              "      <td>Evaluation measures .</td>\n",
              "    </tr>\n",
              "    <tr>\n",
              "      <th>169</th>\n",
              "      <td>During the evaluation of WSD systems two main ...</td>\n",
              "    </tr>\n",
              "    <tr>\n",
              "      <th>170</th>\n",
              "      <td>This model has been extended to take into acco...</td>\n",
              "    </tr>\n",
              "  </tbody>\n",
              "</table>\n",
              "<p>171 rows × 1 columns</p>\n",
              "</div>\n",
              "      <button class=\"colab-df-convert\" onclick=\"convertToInteractive('df-37a5bcf0-77ff-4fec-89b6-0a67a815ae09')\"\n",
              "              title=\"Convert this dataframe to an interactive table.\"\n",
              "              style=\"display:none;\">\n",
              "        \n",
              "  <svg xmlns=\"http://www.w3.org/2000/svg\" height=\"24px\"viewBox=\"0 0 24 24\"\n",
              "       width=\"24px\">\n",
              "    <path d=\"M0 0h24v24H0V0z\" fill=\"none\"/>\n",
              "    <path d=\"M18.56 5.44l.94 2.06.94-2.06 2.06-.94-2.06-.94-.94-2.06-.94 2.06-2.06.94zm-11 1L8.5 8.5l.94-2.06 2.06-.94-2.06-.94L8.5 2.5l-.94 2.06-2.06.94zm10 10l.94 2.06.94-2.06 2.06-.94-2.06-.94-.94-2.06-.94 2.06-2.06.94z\"/><path d=\"M17.41 7.96l-1.37-1.37c-.4-.4-.92-.59-1.43-.59-.52 0-1.04.2-1.43.59L10.3 9.45l-7.72 7.72c-.78.78-.78 2.05 0 2.83L4 21.41c.39.39.9.59 1.41.59.51 0 1.02-.2 1.41-.59l7.78-7.78 2.81-2.81c.8-.78.8-2.07 0-2.86zM5.41 20L4 18.59l7.72-7.72 1.47 1.35L5.41 20z\"/>\n",
              "  </svg>\n",
              "      </button>\n",
              "      \n",
              "  <style>\n",
              "    .colab-df-container {\n",
              "      display:flex;\n",
              "      flex-wrap:wrap;\n",
              "      gap: 12px;\n",
              "    }\n",
              "\n",
              "    .colab-df-convert {\n",
              "      background-color: #E8F0FE;\n",
              "      border: none;\n",
              "      border-radius: 50%;\n",
              "      cursor: pointer;\n",
              "      display: none;\n",
              "      fill: #1967D2;\n",
              "      height: 32px;\n",
              "      padding: 0 0 0 0;\n",
              "      width: 32px;\n",
              "    }\n",
              "\n",
              "    .colab-df-convert:hover {\n",
              "      background-color: #E2EBFA;\n",
              "      box-shadow: 0px 1px 2px rgba(60, 64, 67, 0.3), 0px 1px 3px 1px rgba(60, 64, 67, 0.15);\n",
              "      fill: #174EA6;\n",
              "    }\n",
              "\n",
              "    [theme=dark] .colab-df-convert {\n",
              "      background-color: #3B4455;\n",
              "      fill: #D2E3FC;\n",
              "    }\n",
              "\n",
              "    [theme=dark] .colab-df-convert:hover {\n",
              "      background-color: #434B5C;\n",
              "      box-shadow: 0px 1px 3px 1px rgba(0, 0, 0, 0.15);\n",
              "      filter: drop-shadow(0px 1px 2px rgba(0, 0, 0, 0.3));\n",
              "      fill: #FFFFFF;\n",
              "    }\n",
              "  </style>\n",
              "\n",
              "      <script>\n",
              "        const buttonEl =\n",
              "          document.querySelector('#df-37a5bcf0-77ff-4fec-89b6-0a67a815ae09 button.colab-df-convert');\n",
              "        buttonEl.style.display =\n",
              "          google.colab.kernel.accessAllowed ? 'block' : 'none';\n",
              "\n",
              "        async function convertToInteractive(key) {\n",
              "          const element = document.querySelector('#df-37a5bcf0-77ff-4fec-89b6-0a67a815ae09');\n",
              "          const dataTable =\n",
              "            await google.colab.kernel.invokeFunction('convertToInteractive',\n",
              "                                                     [key], {});\n",
              "          if (!dataTable) return;\n",
              "\n",
              "          const docLinkHtml = 'Like what you see? Visit the ' +\n",
              "            '<a target=\"_blank\" href=https://colab.research.google.com/notebooks/data_table.ipynb>data table notebook</a>'\n",
              "            + ' to learn more about interactive tables.';\n",
              "          element.innerHTML = '';\n",
              "          dataTable['output_type'] = 'display_data';\n",
              "          await google.colab.output.renderOutput(dataTable, element);\n",
              "          const docLink = document.createElement('div');\n",
              "          docLink.innerHTML = docLinkHtml;\n",
              "          element.appendChild(docLink);\n",
              "        }\n",
              "      </script>\n",
              "    </div>\n",
              "  </div>\n",
              "  "
            ],
            "text/plain": [
              "                                                  text\n",
              "0    In computational linguistics , word-sense disa...\n",
              "1    The solution to this problem impacts other com...\n",
              "2    Research has progressed steadily to the point ...\n",
              "3    A rich variety of techniques have been researc...\n",
              "4    Among these , supervised learning approaches h...\n",
              "..                                                 ...\n",
              "166  WordNet is the most popular example of sense i...\n",
              "167  The reason for adopting the HECTOR database du...\n",
              "168                              Evaluation measures .\n",
              "169  During the evaluation of WSD systems two main ...\n",
              "170  This model has been extended to take into acco...\n",
              "\n",
              "[171 rows x 1 columns]"
            ]
          },
          "metadata": {}
        }
      ]
    },
    {
      "cell_type": "markdown",
      "source": [
        "### N-Gram Model Class"
      ],
      "metadata": {
        "id": "E9KdoKCrZUaG"
      }
    },
    {
      "cell_type": "code",
      "source": [
        "class nGramModel:\n",
        "  def __init__(self):\n",
        "    self._n = None\n",
        "    self._data = []\n",
        "    self._selfData = []\n",
        "    self._smoothingType = None\n",
        "    \n",
        "    self._countMatrix = []\n",
        "    self._nmin1gramCounter = []\n",
        "    self._ngramCounter = []\n",
        "    self._nmin1gramCounterIndexer = []\n",
        "    self._ngramCounterIndexer = []\n",
        "\n",
        "    self._addk = None\n",
        "    \n",
        "  def tokenize(self, sentence):\n",
        "    return sentence.split()\n",
        "\n",
        "  def initiateMatrix(self, xAxis, yAxis):\n",
        "    self._countMatrix.append([np.zeros((len(xAxis), len(yAxis)), dtype=float)])\n",
        "    \n",
        "  def endMarker(self, sentence):\n",
        "    return sentence + str(\" </S>\")\n",
        "\n",
        "  def nGramCounter(self, pandasSeriesOfSentence, n):\n",
        "    words = (pandasSeriesOfSentence.str.split(' ').explode())\n",
        "    tempGram = (words)\n",
        "    for i in range(n-1):\n",
        "      nextWord = words.groupby(level=0).shift(i*-1-1)\n",
        "      tempGram = (tempGram + \" \" + nextWord)\n",
        "\n",
        "    tempGram.dropna()\n",
        "    return tempGram.value_counts()[:]\n",
        "\n",
        "  def entropy(self, testData):\n",
        "    listEntropy = []\n",
        "    xContext = None\n",
        "    yGram = None\n",
        "\n",
        "    self._testData = testData.copy().apply(self.endMarker)\n",
        "    for gram in range(self._n):\n",
        "      if gram != 0: self._testData = '<S> ' + self._testData\n",
        "\n",
        "    for sentence in self._testData:\n",
        "      key = []\n",
        "      sumProb = 0\n",
        "      tokenized = sentence.split()\n",
        "      \n",
        "      if gram > 0:\n",
        "        for i in range(len(tokenized)):\n",
        "          key.append(tokenized[i])\n",
        "          if len(key) == gram + 1:\n",
        "            xgram = \" \".join(key[:gram])\n",
        "            ygram = \" \".join(key[:])\n",
        "            \n",
        "            if xgram in self._nmin1gramCounterIndexer[gram][0] and ygram in self._ngramCounterIndexer[gram][0]:\n",
        "              proba = self._countMatrix[gram][0][self._nmin1gramCounterIndexer[gram][0].index(xgram)][self._ngramCounterIndexer[gram][0].index(ygram)]\n",
        "              sumProb = sumProb + proba * math.log2(proba)\n",
        "            else: \n",
        "              proba = 0.75/len(self._nmin1gramCounterIndexer[gram][0])\n",
        "              sumProb = sumProb + proba * math.log2(proba)\n",
        "            key.pop(0)\n",
        "      else:\n",
        "        for i in range(len(tokenized)):\n",
        "          if tokenized[i] in self._countMatrix[0][0]:\n",
        "            proba = self._countMatrix[0][0][tokenized[i]]\n",
        "            sumProb = sumProb + proba * math.log2(proba)  \n",
        "          else: \n",
        "            proba = 0.75/len(self._countMatrix[0][0])\n",
        "            sumProb = sumProb + proba * math.log2(proba)     \n",
        "      \n",
        "      listEntropy.append(-sumProb)\n",
        "\n",
        "    return statistics.mean(listEntropy)\n",
        "\n",
        "  def fit(self, x, n, smoothingType = 'non', addk = 0):\n",
        "    self._n = n\n",
        "    self._data = x.copy().swifter.apply(self.endMarker)\n",
        "    self._smoothingType  = smoothingType\n",
        "    self._addk = addk\n",
        "\n",
        "    for gram in range(n):\n",
        "      if gram == 0:\n",
        "        self._ngramCounter.append([self.nGramCounter(self._data, gram+1)])\n",
        "        self._nmin1gramCounter.append([])\n",
        "        self._nmin1gramCounterIndexer.append([])\n",
        "        self._ngramCounterIndexer.append([])\n",
        "        self._countMatrix.append([self._ngramCounter[gram][0] / len(self._ngramCounter[gram][0])])\n",
        "      else:\n",
        "        self._data = '<S> ' + self._data\n",
        "        self._nmin1gramCounter.append([self.nGramCounter(self._data, gram)])\n",
        "        self._ngramCounter.append([self.nGramCounter(self._data, gram+1)])\n",
        "        self._nmin1gramCounterIndexer.append([self._nmin1gramCounter[gram][0].index.to_list()])\n",
        "        self._ngramCounterIndexer.append([self._ngramCounter[gram][0].index.to_list()])\n",
        "        self.initiateMatrix(self._nmin1gramCounter[gram][0], self._ngramCounter[gram][0])\n",
        "\n",
        "        for sentence in self._data:\n",
        "          key = []\n",
        "\n",
        "          tokenized = sentence.split()\n",
        "          for i in range(len(tokenized)):\n",
        "            key.append(tokenized[i])\n",
        "            if len(key) == gram + 1:\n",
        "              xgram = \" \".join(key[:gram])\n",
        "              ygram = \" \".join(key[:])\n",
        "              self._countMatrix[gram][0][self._nmin1gramCounterIndexer[gram][0].index(xgram)][self._ngramCounterIndexer[gram][0].index(ygram)] += 1\n",
        "              key.pop(0)\n",
        "\n",
        "        if self._smoothingType == 'non':\n",
        "          for i in range(len(self._countMatrix[gram][0])):\n",
        "            self._countMatrix[gram][0][i] = self._countMatrix[gram][0][i] / self._nmin1gramCounter[gram][0][i]\n",
        "        elif self._smoothingType == 'laplace':\n",
        "          for i in range(len(self._countMatrix[gram][0])):\n",
        "            self._countMatrix[gram][0][i] = (self._countMatrix[gram][0][i] + 1) / (self._nmin1gramCounter[gram][0][i] + len(self._nmin1gramCounter[gram][0]))\n",
        "        elif self._smoothingType == 'add-k':\n",
        "          for i in range(len(self._countMatrix[gram][0])):\n",
        "            self._countMatrix[gram][0][i] = (self._countMatrix[gram][0][i] + self._addk) / (self._nmin1gramCounter[gram][0][i] + (self._addk * len(self._nmin1gramCounter[gram][0])))\n",
        "\n",
        "    if self._smoothingType == 'kneser-ney':\n",
        "      for i in tqdm(range(len(self._countMatrix[self._n-1][0]))): #->74\n",
        "        for j in range(len(self._countMatrix[self._n-1][0][i])): #->79\n",
        "          context = self._ngramCounterIndexer[self._n-1][0][j]\n",
        "          string = self._nmin1gramCounterIndexer[self._n-1][0][i]\n",
        "          if context.startswith(string):\n",
        "            pContinuationNominator = 0\n",
        "            pContinuationDenominator = 0\n",
        "            d = 1\n",
        "            backStep = self._n\n",
        "            tokenContext = context.replace(string, '')\n",
        "            #firstTerm = max(0, ) / \n",
        "\n",
        "            while pContinuationNominator == 0:\n",
        "              if backStep != 0:\n",
        "                backStep = backStep - 1\n",
        "                if backStep != 0:\n",
        "                  pContinuationNominator = [item.endswith(tokenContext) for item in self._ngramCounterIndexer[backStep][0]].count(True)\n",
        "                  pContinuationDenominator = len(self._ngramCounterIndexer[backStep][0])\n",
        "              else:\n",
        "                pContinuationNominator = 1\n",
        "                pContinuationDenominator = len(self._ngramCounter[0][0])\n",
        "\n",
        "            if backStep != self._n-1: d = 0.75\n",
        "\n",
        "            firstTerm = max(0, (self._countMatrix[self._n-1][0][i][j] - d))/ self._nmin1gramCounter[self._n-1][0][i]\n",
        "            B = [item.startswith(string) for item in self._ngramCounterIndexer[self._n-1][0]]\n",
        "            A = self._ngramCounter[self._n-1][0]\n",
        "            lambdaLaterExpression =  sum(a for a,b in zip(A, B) if b)\n",
        "            lamd = (d / self._nmin1gramCounter[self._n-1][0][i]) * lambdaLaterExpression\n",
        "            pContinuation = pContinuationNominator / pContinuationDenominator\n",
        "            self._countMatrix[self._n-1][0][i][j] = firstTerm + lamd * pContinuation  \n"
      ],
      "metadata": {
        "id": "ZTgSqXB439WD"
      },
      "execution_count": 10,
      "outputs": []
    },
    {
      "cell_type": "markdown",
      "source": [
        "### 1-gram"
      ],
      "metadata": {
        "id": "HhfjyVz3aMYs"
      }
    },
    {
      "cell_type": "code",
      "source": [
        "ng = nGramModel()\n",
        "ng.fit(train.text, 1, smoothingType='non')\n",
        "ng.entropy(test.text)"
      ],
      "metadata": {
        "colab": {
          "base_uri": "https://localhost:8080/"
        },
        "id": "WURsDSC6-6Lk",
        "outputId": "fcb6952c-586a-4ded-d842-bcbee60f8d21"
      },
      "execution_count": 7,
      "outputs": [
        {
          "output_type": "stream",
          "name": "stdout",
          "text": [
            "1-gram\n"
          ]
        },
        {
          "output_type": "execute_result",
          "data": {
            "text/plain": [
              "4.825769440410396"
            ]
          },
          "metadata": {},
          "execution_count": 7
        }
      ]
    },
    {
      "cell_type": "code",
      "source": [
        "ng = nGramModel()\n",
        "ng.fit(train.text, 1, smoothingType='laplace')\n",
        "ng.entropy(test.text)\n"
      ],
      "metadata": {
        "colab": {
          "base_uri": "https://localhost:8080/"
        },
        "id": "N2RtWfuV3RCR",
        "outputId": "221facc5-e79c-4190-f9b6-57c51e9431e5"
      },
      "execution_count": 8,
      "outputs": [
        {
          "output_type": "stream",
          "name": "stdout",
          "text": [
            "1-gram\n"
          ]
        },
        {
          "output_type": "execute_result",
          "data": {
            "text/plain": [
              "4.825769440410396"
            ]
          },
          "metadata": {},
          "execution_count": 8
        }
      ]
    },
    {
      "cell_type": "code",
      "source": [
        "ng = nGramModel()\n",
        "ng.fit(train.text, 1, smoothingType='add-k', addk=5)\n",
        "ng.entropy(test.text)"
      ],
      "metadata": {
        "colab": {
          "base_uri": "https://localhost:8080/"
        },
        "id": "96G4KRlDZhOO",
        "outputId": "5570b05a-2787-48f8-ce91-50c8dbb51b44"
      },
      "execution_count": 10,
      "outputs": [
        {
          "output_type": "stream",
          "name": "stdout",
          "text": [
            "1-gram\n"
          ]
        },
        {
          "output_type": "execute_result",
          "data": {
            "text/plain": [
              "4.825769440410396"
            ]
          },
          "metadata": {},
          "execution_count": 10
        }
      ]
    },
    {
      "cell_type": "markdown",
      "source": [
        "### 2-gram"
      ],
      "metadata": {
        "id": "VvZpdWjMaPH7"
      }
    },
    {
      "cell_type": "code",
      "source": [
        "ng = nGramModel()\n",
        "ng.fit(train.text, 2, smoothingType='non')\n",
        "ng.entropy(test.text)"
      ],
      "metadata": {
        "colab": {
          "base_uri": "https://localhost:8080/"
        },
        "id": "dvGO-f3iaLxw",
        "outputId": "36b84dda-fcda-47cd-c4bb-dcbca2e9cf1a"
      },
      "execution_count": 13,
      "outputs": [
        {
          "output_type": "stream",
          "name": "stdout",
          "text": [
            "1-gram\n",
            "Processing 2-gram\n"
          ]
        },
        {
          "output_type": "execute_result",
          "data": {
            "text/plain": [
              "2.6230528091478513"
            ]
          },
          "metadata": {},
          "execution_count": 13
        }
      ]
    },
    {
      "cell_type": "code",
      "source": [
        "ng = nGramModel()\n",
        "ng.fit(train.text, 2, smoothingType='laplace')\n",
        "ng.entropy(test.text)\n"
      ],
      "metadata": {
        "colab": {
          "base_uri": "https://localhost:8080/"
        },
        "id": "M1haI5o9aUrr",
        "outputId": "64cddd34-a091-4c17-831a-d55f80d25064"
      },
      "execution_count": 15,
      "outputs": [
        {
          "output_type": "stream",
          "name": "stdout",
          "text": [
            "1-gram\n",
            "Processing 2-gram\n"
          ]
        },
        {
          "output_type": "execute_result",
          "data": {
            "text/plain": [
              "0.7593649354450983"
            ]
          },
          "metadata": {},
          "execution_count": 15
        }
      ]
    },
    {
      "cell_type": "code",
      "source": [
        "ng = nGramModel()\n",
        "ng.fit(train.text, 2, smoothingType='add-k', addk=5)\n",
        "ng.entropy(test.text)"
      ],
      "metadata": {
        "colab": {
          "base_uri": "https://localhost:8080/"
        },
        "id": "RBF5P4WdaWdv",
        "outputId": "ad262ac7-88d0-4bb2-cc67-f2da00c808c2"
      },
      "execution_count": 16,
      "outputs": [
        {
          "output_type": "stream",
          "name": "stdout",
          "text": [
            "1-gram\n",
            "Processing 2-gram\n"
          ]
        },
        {
          "output_type": "execute_result",
          "data": {
            "text/plain": [
              "0.3284907998484869"
            ]
          },
          "metadata": {},
          "execution_count": 16
        }
      ]
    },
    {
      "cell_type": "code",
      "source": [
        "ng = nGramModel()\n",
        "ng.fit(train.text, 2, smoothingType='kneser-ney')\n",
        "ng.entropy(test.text)"
      ],
      "metadata": {
        "colab": {
          "base_uri": "https://localhost:8080/"
        },
        "id": "GVz-6XSZacaO",
        "outputId": "09105daa-c284-4d1f-d7c5-bc19c8311ce1"
      },
      "execution_count": 11,
      "outputs": [
        {
          "output_type": "stream",
          "name": "stderr",
          "text": [
            "100%|██████████| 5235/5235 [08:55<00:00,  9.78it/s]\n"
          ]
        },
        {
          "output_type": "execute_result",
          "data": {
            "text/plain": [
              "2.429837788943742"
            ]
          },
          "metadata": {},
          "execution_count": 11
        }
      ]
    },
    {
      "cell_type": "markdown",
      "source": [
        "### 3-gram"
      ],
      "metadata": {
        "id": "BwxQuIl1bo5_"
      }
    },
    {
      "cell_type": "code",
      "source": [
        "ng = nGramModel()\n",
        "ng.fit(train.text, 3, smoothingType='non')\n",
        "ng.entropy(test.text)"
      ],
      "metadata": {
        "colab": {
          "base_uri": "https://localhost:8080/"
        },
        "id": "UvQJRuSfbUlV",
        "outputId": "6fe57742-50a8-45cb-a4e0-ff2c2065ea8d"
      },
      "execution_count": 30,
      "outputs": [
        {
          "output_type": "execute_result",
          "data": {
            "text/plain": [
              "0.8718609481693802"
            ]
          },
          "metadata": {},
          "execution_count": 30
        }
      ]
    },
    {
      "cell_type": "code",
      "source": [
        "ng = nGramModel()\n",
        "ng.fit(train.text, 3, smoothingType='laplace')\n",
        "ng.entropy(test.text)"
      ],
      "metadata": {
        "colab": {
          "base_uri": "https://localhost:8080/"
        },
        "id": "LyZepNW9bsn4",
        "outputId": "33efa89b-6d91-4bcc-ca26-bd27a80b6ac6"
      },
      "execution_count": 31,
      "outputs": [
        {
          "output_type": "execute_result",
          "data": {
            "text/plain": [
              "0.03855510563005131"
            ]
          },
          "metadata": {},
          "execution_count": 31
        }
      ]
    },
    {
      "cell_type": "code",
      "source": [
        "ng = nGramModel()\n",
        "ng.fit(train.text, 3, smoothingType='add-k', addk=5)\n",
        "ng.entropy(test.text)"
      ],
      "metadata": {
        "colab": {
          "base_uri": "https://localhost:8080/"
        },
        "id": "AcnlCHN8bv8h",
        "outputId": "26bfcb1e-a8f0-4e7a-8f18-997fdcadc0d4"
      },
      "execution_count": 7,
      "outputs": [
        {
          "output_type": "execute_result",
          "data": {
            "text/plain": [
              "0.020822585357205863"
            ]
          },
          "metadata": {},
          "execution_count": 7
        }
      ]
    },
    {
      "cell_type": "code",
      "source": [
        "ng = nGramModel()\n",
        "ng.fit(train.text, 3, smoothingType='kneser-ney')\n",
        "ng.entropy(test.text)"
      ],
      "metadata": {
        "colab": {
          "base_uri": "https://localhost:8080/"
        },
        "id": "HX8q_lYMbzm-",
        "outputId": "9f441b53-79f9-4ac4-96a2-935945f99bd2"
      },
      "execution_count": 8,
      "outputs": [
        {
          "output_type": "stream",
          "name": "stderr",
          "text": [
            "100%|██████████| 21515/21515 [17:41<00:00, 20.27it/s]\n"
          ]
        },
        {
          "output_type": "execute_result",
          "data": {
            "text/plain": [
              "0.8718609481693802"
            ]
          },
          "metadata": {},
          "execution_count": 8
        }
      ]
    }
  ]
}