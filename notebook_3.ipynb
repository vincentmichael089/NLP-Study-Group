{
  "nbformat": 4,
  "nbformat_minor": 0,
  "metadata": {
    "colab": {
      "name": "NLP_SG_3.ipynb",
      "provenance": [],
      "collapsed_sections": []
    },
    "kernelspec": {
      "name": "python3",
      "display_name": "Python 3"
    },
    "language_info": {
      "name": "python"
    }
  },
  "cells": [
    {
      "cell_type": "markdown",
      "source": [
        "### Connect to Drive and importing dependencies"
      ],
      "metadata": {
        "id": "DvdO5by3gxki"
      }
    },
    {
      "cell_type": "code",
      "source": [
        "from google.colab import drive\n",
        "drive.mount('/content/drive', force_remount=True)"
      ],
      "metadata": {
        "colab": {
          "base_uri": "https://localhost:8080/"
        },
        "id": "b1h-IJjRPPSh",
        "outputId": "f2aa4d1d-1b08-49df-ef29-36b75ba21311"
      },
      "execution_count": 1,
      "outputs": [
        {
          "output_type": "stream",
          "name": "stdout",
          "text": [
            "Mounted at /content/drive\n"
          ]
        }
      ]
    },
    {
      "cell_type": "code",
      "source": [
        "pip install swifter"
      ],
      "metadata": {
        "id": "pOo6lcnVQJSw"
      },
      "execution_count": null,
      "outputs": []
    },
    {
      "cell_type": "code",
      "source": [
        "import pandas as pd\n",
        "import swifter\n",
        "import matplotlib.pylab as plt\n",
        "import seaborn as sns\n",
        "import numpy as np\n",
        "import sys\n",
        "import warnings\n",
        "from pandas.core.common import SettingWithCopyWarning\n",
        "warnings.simplefilter(action = \"ignore\", category = SettingWithCopyWarning)\n",
        "warnings.simplefilter(action = \"ignore\", category = pd.errors.PerformanceWarning)"
      ],
      "metadata": {
        "id": "7B-g03DkPkee"
      },
      "execution_count": 2,
      "outputs": []
    },
    {
      "cell_type": "markdown",
      "source": [
        "### Read the data"
      ],
      "metadata": {
        "id": "s_2sNYBHg_MX"
      }
    },
    {
      "cell_type": "code",
      "source": [
        "pathTrain = \"/content/drive/MyDrive/NLP Study Group/Problem 3/train.csv\"\n",
        "pathTest = \"/content/drive/MyDrive/NLP Study Group/Problem 3/test.csv\"\n",
        "\n",
        "dfTrain = pd.read_csv(pathTrain, names = [\"text\"], sep = \"\\n\")\n",
        "dfTest = pd.read_csv(pathTest, names = [\"text\"], sep = \"\\n\")\n",
        "display(dfTrain)\n",
        "display(dfTest)"
      ],
      "metadata": {
        "colab": {
          "base_uri": "https://localhost:8080/",
          "height": 1410
        },
        "id": "kfrjG0GXPUX6",
        "outputId": "e46b90fc-1888-4672-e4f9-8e38dfc433e4"
      },
      "execution_count": 7,
      "outputs": [
        {
          "output_type": "display_data",
          "data": {
            "text/html": [
              "\n",
              "  <div id=\"df-6c6171cb-bf02-4a35-8945-15068e9ff680\">\n",
              "    <div class=\"colab-df-container\">\n",
              "      <div>\n",
              "<style scoped>\n",
              "    .dataframe tbody tr th:only-of-type {\n",
              "        vertical-align: middle;\n",
              "    }\n",
              "\n",
              "    .dataframe tbody tr th {\n",
              "        vertical-align: top;\n",
              "    }\n",
              "\n",
              "    .dataframe thead th {\n",
              "        text-align: right;\n",
              "    }\n",
              "</style>\n",
              "<table border=\"1\" class=\"dataframe\">\n",
              "  <thead>\n",
              "    <tr style=\"text-align: right;\">\n",
              "      <th></th>\n",
              "      <th>text</th>\n",
              "    </tr>\n",
              "  </thead>\n",
              "  <tbody>\n",
              "    <tr>\n",
              "      <th>0</th>\n",
              "      <td>Natural_JJ language_NN processing_NN -LRB-_-LR...</td>\n",
              "    </tr>\n",
              "    <tr>\n",
              "      <th>1</th>\n",
              "      <td>Specifically_RB ,_, it_PRP is_VBZ the_DT proce...</td>\n",
              "    </tr>\n",
              "    <tr>\n",
              "      <th>2</th>\n",
              "      <td>In_IN theory_NN ,_, natural_JJ language_NN pro...</td>\n",
              "    </tr>\n",
              "    <tr>\n",
              "      <th>3</th>\n",
              "      <td>Natural_JJ language_NN understanding_NN is_VBZ...</td>\n",
              "    </tr>\n",
              "    <tr>\n",
              "      <th>4</th>\n",
              "      <td>Whether_NNP NLP_NNP is_VBZ distinct_JJ from_IN...</td>\n",
              "    </tr>\n",
              "    <tr>\n",
              "      <th>...</th>\n",
              "      <td>...</td>\n",
              "    </tr>\n",
              "    <tr>\n",
              "      <th>1296</th>\n",
              "      <td>When_WRB punctuation_NN and_CC similar_JJ clue...</td>\n",
              "    </tr>\n",
              "    <tr>\n",
              "      <th>1297</th>\n",
              "      <td>Effective_JJ natural_JJ language_NN processing...</td>\n",
              "    </tr>\n",
              "    <tr>\n",
              "      <th>1298</th>\n",
              "      <td>As_IN an_DT example_NN ,_, processing_NN text_...</td>\n",
              "    </tr>\n",
              "    <tr>\n",
              "      <th>1299</th>\n",
              "      <td>The_DT process_NN of_IN developing_VBG text_NN...</td>\n",
              "    </tr>\n",
              "    <tr>\n",
              "      <th>1300</th>\n",
              "      <td>There_EX are_VBP two_CD general_JJ approaches_...</td>\n",
              "    </tr>\n",
              "  </tbody>\n",
              "</table>\n",
              "<p>1301 rows × 1 columns</p>\n",
              "</div>\n",
              "      <button class=\"colab-df-convert\" onclick=\"convertToInteractive('df-6c6171cb-bf02-4a35-8945-15068e9ff680')\"\n",
              "              title=\"Convert this dataframe to an interactive table.\"\n",
              "              style=\"display:none;\">\n",
              "        \n",
              "  <svg xmlns=\"http://www.w3.org/2000/svg\" height=\"24px\"viewBox=\"0 0 24 24\"\n",
              "       width=\"24px\">\n",
              "    <path d=\"M0 0h24v24H0V0z\" fill=\"none\"/>\n",
              "    <path d=\"M18.56 5.44l.94 2.06.94-2.06 2.06-.94-2.06-.94-.94-2.06-.94 2.06-2.06.94zm-11 1L8.5 8.5l.94-2.06 2.06-.94-2.06-.94L8.5 2.5l-.94 2.06-2.06.94zm10 10l.94 2.06.94-2.06 2.06-.94-2.06-.94-.94-2.06-.94 2.06-2.06.94z\"/><path d=\"M17.41 7.96l-1.37-1.37c-.4-.4-.92-.59-1.43-.59-.52 0-1.04.2-1.43.59L10.3 9.45l-7.72 7.72c-.78.78-.78 2.05 0 2.83L4 21.41c.39.39.9.59 1.41.59.51 0 1.02-.2 1.41-.59l7.78-7.78 2.81-2.81c.8-.78.8-2.07 0-2.86zM5.41 20L4 18.59l7.72-7.72 1.47 1.35L5.41 20z\"/>\n",
              "  </svg>\n",
              "      </button>\n",
              "      \n",
              "  <style>\n",
              "    .colab-df-container {\n",
              "      display:flex;\n",
              "      flex-wrap:wrap;\n",
              "      gap: 12px;\n",
              "    }\n",
              "\n",
              "    .colab-df-convert {\n",
              "      background-color: #E8F0FE;\n",
              "      border: none;\n",
              "      border-radius: 50%;\n",
              "      cursor: pointer;\n",
              "      display: none;\n",
              "      fill: #1967D2;\n",
              "      height: 32px;\n",
              "      padding: 0 0 0 0;\n",
              "      width: 32px;\n",
              "    }\n",
              "\n",
              "    .colab-df-convert:hover {\n",
              "      background-color: #E2EBFA;\n",
              "      box-shadow: 0px 1px 2px rgba(60, 64, 67, 0.3), 0px 1px 3px 1px rgba(60, 64, 67, 0.15);\n",
              "      fill: #174EA6;\n",
              "    }\n",
              "\n",
              "    [theme=dark] .colab-df-convert {\n",
              "      background-color: #3B4455;\n",
              "      fill: #D2E3FC;\n",
              "    }\n",
              "\n",
              "    [theme=dark] .colab-df-convert:hover {\n",
              "      background-color: #434B5C;\n",
              "      box-shadow: 0px 1px 3px 1px rgba(0, 0, 0, 0.15);\n",
              "      filter: drop-shadow(0px 1px 2px rgba(0, 0, 0, 0.3));\n",
              "      fill: #FFFFFF;\n",
              "    }\n",
              "  </style>\n",
              "\n",
              "      <script>\n",
              "        const buttonEl =\n",
              "          document.querySelector('#df-6c6171cb-bf02-4a35-8945-15068e9ff680 button.colab-df-convert');\n",
              "        buttonEl.style.display =\n",
              "          google.colab.kernel.accessAllowed ? 'block' : 'none';\n",
              "\n",
              "        async function convertToInteractive(key) {\n",
              "          const element = document.querySelector('#df-6c6171cb-bf02-4a35-8945-15068e9ff680');\n",
              "          const dataTable =\n",
              "            await google.colab.kernel.invokeFunction('convertToInteractive',\n",
              "                                                     [key], {});\n",
              "          if (!dataTable) return;\n",
              "\n",
              "          const docLinkHtml = 'Like what you see? Visit the ' +\n",
              "            '<a target=\"_blank\" href=https://colab.research.google.com/notebooks/data_table.ipynb>data table notebook</a>'\n",
              "            + ' to learn more about interactive tables.';\n",
              "          element.innerHTML = '';\n",
              "          dataTable['output_type'] = 'display_data';\n",
              "          await google.colab.output.renderOutput(dataTable, element);\n",
              "          const docLink = document.createElement('div');\n",
              "          docLink.innerHTML = docLinkHtml;\n",
              "          element.appendChild(docLink);\n",
              "        }\n",
              "      </script>\n",
              "    </div>\n",
              "  </div>\n",
              "  "
            ],
            "text/plain": [
              "                                                   text\n",
              "0     Natural_JJ language_NN processing_NN -LRB-_-LR...\n",
              "1     Specifically_RB ,_, it_PRP is_VBZ the_DT proce...\n",
              "2     In_IN theory_NN ,_, natural_JJ language_NN pro...\n",
              "3     Natural_JJ language_NN understanding_NN is_VBZ...\n",
              "4     Whether_NNP NLP_NNP is_VBZ distinct_JJ from_IN...\n",
              "...                                                 ...\n",
              "1296  When_WRB punctuation_NN and_CC similar_JJ clue...\n",
              "1297  Effective_JJ natural_JJ language_NN processing...\n",
              "1298  As_IN an_DT example_NN ,_, processing_NN text_...\n",
              "1299  The_DT process_NN of_IN developing_VBG text_NN...\n",
              "1300  There_EX are_VBP two_CD general_JJ approaches_...\n",
              "\n",
              "[1301 rows x 1 columns]"
            ]
          },
          "metadata": {}
        },
        {
          "output_type": "display_data",
          "data": {
            "text/html": [
              "\n",
              "  <div id=\"df-b6976038-584c-46d9-a26b-bf2c2ef79334\">\n",
              "    <div class=\"colab-df-container\">\n",
              "      <div>\n",
              "<style scoped>\n",
              "    .dataframe tbody tr th:only-of-type {\n",
              "        vertical-align: middle;\n",
              "    }\n",
              "\n",
              "    .dataframe tbody tr th {\n",
              "        vertical-align: top;\n",
              "    }\n",
              "\n",
              "    .dataframe thead th {\n",
              "        text-align: right;\n",
              "    }\n",
              "</style>\n",
              "<table border=\"1\" class=\"dataframe\">\n",
              "  <thead>\n",
              "    <tr style=\"text-align: right;\">\n",
              "      <th></th>\n",
              "      <th>text</th>\n",
              "    </tr>\n",
              "  </thead>\n",
              "  <tbody>\n",
              "    <tr>\n",
              "      <th>0</th>\n",
              "      <td>In_IN computational_JJ linguistics_NNS ,_, wor...</td>\n",
              "    </tr>\n",
              "    <tr>\n",
              "      <th>1</th>\n",
              "      <td>The_DT solution_NN to_TO this_DT problem_NN im...</td>\n",
              "    </tr>\n",
              "    <tr>\n",
              "      <th>2</th>\n",
              "      <td>Research_NNP has_VBZ progressed_VBN steadily_R...</td>\n",
              "    </tr>\n",
              "    <tr>\n",
              "      <th>3</th>\n",
              "      <td>A_DT rich_JJ variety_NN of_IN techniques_NNS h...</td>\n",
              "    </tr>\n",
              "    <tr>\n",
              "      <th>4</th>\n",
              "      <td>Among_IN these_DT ,_, supervised_JJ learning_N...</td>\n",
              "    </tr>\n",
              "    <tr>\n",
              "      <th>...</th>\n",
              "      <td>...</td>\n",
              "    </tr>\n",
              "    <tr>\n",
              "      <th>166</th>\n",
              "      <td>WordNet_NNP is_VBZ the_DT most_RBS popular_JJ ...</td>\n",
              "    </tr>\n",
              "    <tr>\n",
              "      <th>167</th>\n",
              "      <td>The_DT reason_NN for_IN adopting_VBG the_DT HE...</td>\n",
              "    </tr>\n",
              "    <tr>\n",
              "      <th>168</th>\n",
              "      <td>Evaluation_NN measures_NNS ._.</td>\n",
              "    </tr>\n",
              "    <tr>\n",
              "      <th>169</th>\n",
              "      <td>During_IN the_DT evaluation_NN of_IN WSD_NNP s...</td>\n",
              "    </tr>\n",
              "    <tr>\n",
              "      <th>170</th>\n",
              "      <td>This_DT model_NN has_VBZ been_VBN extended_VBN...</td>\n",
              "    </tr>\n",
              "  </tbody>\n",
              "</table>\n",
              "<p>171 rows × 1 columns</p>\n",
              "</div>\n",
              "      <button class=\"colab-df-convert\" onclick=\"convertToInteractive('df-b6976038-584c-46d9-a26b-bf2c2ef79334')\"\n",
              "              title=\"Convert this dataframe to an interactive table.\"\n",
              "              style=\"display:none;\">\n",
              "        \n",
              "  <svg xmlns=\"http://www.w3.org/2000/svg\" height=\"24px\"viewBox=\"0 0 24 24\"\n",
              "       width=\"24px\">\n",
              "    <path d=\"M0 0h24v24H0V0z\" fill=\"none\"/>\n",
              "    <path d=\"M18.56 5.44l.94 2.06.94-2.06 2.06-.94-2.06-.94-.94-2.06-.94 2.06-2.06.94zm-11 1L8.5 8.5l.94-2.06 2.06-.94-2.06-.94L8.5 2.5l-.94 2.06-2.06.94zm10 10l.94 2.06.94-2.06 2.06-.94-2.06-.94-.94-2.06-.94 2.06-2.06.94z\"/><path d=\"M17.41 7.96l-1.37-1.37c-.4-.4-.92-.59-1.43-.59-.52 0-1.04.2-1.43.59L10.3 9.45l-7.72 7.72c-.78.78-.78 2.05 0 2.83L4 21.41c.39.39.9.59 1.41.59.51 0 1.02-.2 1.41-.59l7.78-7.78 2.81-2.81c.8-.78.8-2.07 0-2.86zM5.41 20L4 18.59l7.72-7.72 1.47 1.35L5.41 20z\"/>\n",
              "  </svg>\n",
              "      </button>\n",
              "      \n",
              "  <style>\n",
              "    .colab-df-container {\n",
              "      display:flex;\n",
              "      flex-wrap:wrap;\n",
              "      gap: 12px;\n",
              "    }\n",
              "\n",
              "    .colab-df-convert {\n",
              "      background-color: #E8F0FE;\n",
              "      border: none;\n",
              "      border-radius: 50%;\n",
              "      cursor: pointer;\n",
              "      display: none;\n",
              "      fill: #1967D2;\n",
              "      height: 32px;\n",
              "      padding: 0 0 0 0;\n",
              "      width: 32px;\n",
              "    }\n",
              "\n",
              "    .colab-df-convert:hover {\n",
              "      background-color: #E2EBFA;\n",
              "      box-shadow: 0px 1px 2px rgba(60, 64, 67, 0.3), 0px 1px 3px 1px rgba(60, 64, 67, 0.15);\n",
              "      fill: #174EA6;\n",
              "    }\n",
              "\n",
              "    [theme=dark] .colab-df-convert {\n",
              "      background-color: #3B4455;\n",
              "      fill: #D2E3FC;\n",
              "    }\n",
              "\n",
              "    [theme=dark] .colab-df-convert:hover {\n",
              "      background-color: #434B5C;\n",
              "      box-shadow: 0px 1px 3px 1px rgba(0, 0, 0, 0.15);\n",
              "      filter: drop-shadow(0px 1px 2px rgba(0, 0, 0, 0.3));\n",
              "      fill: #FFFFFF;\n",
              "    }\n",
              "  </style>\n",
              "\n",
              "      <script>\n",
              "        const buttonEl =\n",
              "          document.querySelector('#df-b6976038-584c-46d9-a26b-bf2c2ef79334 button.colab-df-convert');\n",
              "        buttonEl.style.display =\n",
              "          google.colab.kernel.accessAllowed ? 'block' : 'none';\n",
              "\n",
              "        async function convertToInteractive(key) {\n",
              "          const element = document.querySelector('#df-b6976038-584c-46d9-a26b-bf2c2ef79334');\n",
              "          const dataTable =\n",
              "            await google.colab.kernel.invokeFunction('convertToInteractive',\n",
              "                                                     [key], {});\n",
              "          if (!dataTable) return;\n",
              "\n",
              "          const docLinkHtml = 'Like what you see? Visit the ' +\n",
              "            '<a target=\"_blank\" href=https://colab.research.google.com/notebooks/data_table.ipynb>data table notebook</a>'\n",
              "            + ' to learn more about interactive tables.';\n",
              "          element.innerHTML = '';\n",
              "          dataTable['output_type'] = 'display_data';\n",
              "          await google.colab.output.renderOutput(dataTable, element);\n",
              "          const docLink = document.createElement('div');\n",
              "          docLink.innerHTML = docLinkHtml;\n",
              "          element.appendChild(docLink);\n",
              "        }\n",
              "      </script>\n",
              "    </div>\n",
              "  </div>\n",
              "  "
            ],
            "text/plain": [
              "                                                  text\n",
              "0    In_IN computational_JJ linguistics_NNS ,_, wor...\n",
              "1    The_DT solution_NN to_TO this_DT problem_NN im...\n",
              "2    Research_NNP has_VBZ progressed_VBN steadily_R...\n",
              "3    A_DT rich_JJ variety_NN of_IN techniques_NNS h...\n",
              "4    Among_IN these_DT ,_, supervised_JJ learning_N...\n",
              "..                                                 ...\n",
              "166  WordNet_NNP is_VBZ the_DT most_RBS popular_JJ ...\n",
              "167  The_DT reason_NN for_IN adopting_VBG the_DT HE...\n",
              "168                     Evaluation_NN measures_NNS ._.\n",
              "169  During_IN the_DT evaluation_NN of_IN WSD_NNP s...\n",
              "170  This_DT model_NN has_VBZ been_VBN extended_VBN...\n",
              "\n",
              "[171 rows x 1 columns]"
            ]
          },
          "metadata": {}
        }
      ]
    },
    {
      "cell_type": "markdown",
      "source": [
        "### Data visualisation"
      ],
      "metadata": {
        "id": "925w7RlZg2WH"
      }
    },
    {
      "cell_type": "code",
      "source": [
        "def tokenizeAndTranspose(sentence):\n",
        "  tokenized = [token.split(\"_\") for token in sentence.split()]\n",
        "  transposed = [list(i) for i in zip(*tokenized)]\n",
        "  return transposed"
      ],
      "metadata": {
        "id": "5D6DY-SeQosj"
      },
      "execution_count": 8,
      "outputs": []
    },
    {
      "cell_type": "code",
      "source": [
        "def tokenize(sentence):\n",
        "  tokenized = [token.split(\"_\") for token in sentence.split()]\n",
        "  return tokenized"
      ],
      "metadata": {
        "id": "vBi7Nf8tUnrC"
      },
      "execution_count": 9,
      "outputs": []
    },
    {
      "cell_type": "code",
      "source": [
        "check = [tokenizeAndTranspose(sentence) for sentence in dfTrain[\"text\"].values]\n",
        "temp = []\n",
        "for i in range(len(check)):\n",
        "  temp += check[i][1]\n",
        "\n",
        "plotdata = dict((x, temp.count(x)) for x in set(temp))  \n",
        "\n",
        "posList = list(plotdata.keys())\n",
        "print(posList)\n",
        "print(len(posList))"
      ],
      "metadata": {
        "colab": {
          "base_uri": "https://localhost:8080/"
        },
        "id": "9S0sK9XxQUPX",
        "outputId": "2dfbd87f-894c-4519-a4c7-44360cb5b9c4"
      },
      "execution_count": 13,
      "outputs": [
        {
          "output_type": "stream",
          "name": "stdout",
          "text": [
            "['NNP', 'VBN', 'RBS', 'NN', 'RP', 'VBP', 'VBG', 'RB', 'POS', 'TO', 'JJS', 'RBR', 'NNPS', ':', 'EX', 'FW', 'IN', 'MD', 'JJ', 'PRP', 'NNS', 'WRB', '.', 'CD', '-LRB-', 'JJR', 'VBD', 'VBZ', 'PDT', 'WP$', 'LS', 'WP', 'PRP$', 'CC', 'DT', '``', ',', 'VB', 'UH', '-RRB-', 'WDT', \"''\"]\n",
            "42\n"
          ]
        }
      ]
    },
    {
      "cell_type": "code",
      "source": [
        "sns.set(rc={'figure.figsize':(11.7,8.27)})\n",
        "ax = sns.barplot(x = list(plotdata.values()), y = list(plotdata.keys()))"
      ],
      "metadata": {
        "colab": {
          "base_uri": "https://localhost:8080/",
          "height": 500
        },
        "id": "rHTCGgdsx9O_",
        "outputId": "3d2a5d7a-6eca-4360-9a7b-352dbf8f5dd8"
      },
      "execution_count": null,
      "outputs": [
        {
          "output_type": "display_data",
          "data": {
            "image/png": "[encoded data removed]",
            "text/plain": [
              "<Figure size 842.4x595.44 with 1 Axes>"
            ]
          },
          "metadata": {}
        }
      ]
    },
    {
      "cell_type": "code",
      "source": [
        "check = [tokenizeAndTranspose(sentence) for sentence in dfTest[\"text\"].values]\n",
        "temp = []\n",
        "for i in range(len(check)):\n",
        "  temp += check[i][1]\n",
        "\n",
        "plotdata = dict((x, temp.count(x)) for x in set(temp))  \n",
        "\n",
        "posList = list(plotdata.keys())\n",
        "print(posList)\n",
        "print(len(posList))"
      ],
      "metadata": {
        "colab": {
          "base_uri": "https://localhost:8080/"
        },
        "id": "t4aVdeIX5wy6",
        "outputId": "78e340bc-223f-4c4d-9f6e-e90aeb3735c1"
      },
      "execution_count": 14,
      "outputs": [
        {
          "output_type": "stream",
          "name": "stdout",
          "text": [
            "['NNP', 'VBN', 'RBS', 'NN', 'RP', 'VBP', 'RB', 'VBG', 'POS', 'TO', 'JJS', 'RBR', 'NNPS', ':', 'EX', 'FW', 'IN', 'MD', 'JJ', 'WRB', 'NNS', 'PRP', '.', 'CD', '-LRB-', 'JJR', 'VBD', 'VBZ', 'PDT', 'WP', 'PRP$', 'CC', 'DT', '``', ',', 'VB', '-RRB-', 'WDT', \"''\"]\n",
            "39\n"
          ]
        }
      ]
    },
    {
      "cell_type": "code",
      "source": [
        "sns.set(rc={'figure.figsize':(11.7,8.27)})\n",
        "ax = sns.barplot(x = list(plotdata.values()), y = list(plotdata.keys()))"
      ],
      "metadata": {
        "colab": {
          "base_uri": "https://localhost:8080/",
          "height": 500
        },
        "id": "PDIXwGsF57oC",
        "outputId": "611ff329-0638-4942-b4e6-3aa931e047c3"
      },
      "execution_count": 15,
      "outputs": [
        {
          "output_type": "display_data",
          "data": {
            "image/png": "[encoded data removed]",
            "text/plain": [
              "<Figure size 842.4x595.44 with 1 Axes>"
            ]
          },
          "metadata": {}
        }
      ]
    },
    {
      "cell_type": "markdown",
      "source": [
        "### HMM Model Class"
      ],
      "metadata": {
        "id": "g1ZE29sQhCZC"
      }
    },
    {
      "cell_type": "code",
      "source": [
        "class HMM:\n",
        "  def __init__(self):\n",
        "    self._data = None\n",
        "    self._emissionProb = None\n",
        "    self._transitionProb = None\n",
        "    self._sentencePos = None\n",
        "    self._sentenceSentencePosPos = None\n",
        "    self._posList = None\n",
        "    self._vocabList = None\n",
        "\n",
        "    self._predictData = None\n",
        "    self._sentenceSentencePosPosPredict = None\n",
        "    self._sentencePredict = None\n",
        "    self._sentenceTag = None\n",
        "    self._predictionList = []\n",
        "    self._mg = None\n",
        "\n",
        "  def initiateMatrix(self):\n",
        "    print(\"Initiating transition probability\")\n",
        "    self._transitionProb = pd.DataFrame(\n",
        "        data = np.zeros((len(self._posList)-1, len(self._posList)-1), dtype = float), \n",
        "        index = list(set(self._posList) - set(['</S>'])),\n",
        "        columns = list(set(self._posList) - set(['<S>']))\n",
        "      )\n",
        "    \n",
        "    for i in range(len(self._sentenceSentencePosPos)):\n",
        "      for j in range(len(self._sentenceSentencePosPos[i][1])):\n",
        "        if j != 0: \n",
        "          context = self._sentenceSentencePosPos[i][1][j]\n",
        "          given = self._sentenceSentencePosPos[i][1][j-1]\n",
        "          self._transitionProb[context].loc[given] += 1\n",
        "\n",
        "    self._transitionProb = self._transitionProb.div(self._transitionProb.sum(axis=1), axis=0)\n",
        "    print(\"Done!\")\n",
        "\n",
        "    print(\"Initiating emission probability\")\n",
        "    self._emissionProb = pd.DataFrame(\n",
        "        data = np.zeros((len(self._posList), len(self._vocabList)), dtype = float),\n",
        "        index = self._posList,\n",
        "        columns = self._vocabList\n",
        "    )\n",
        "\n",
        "    for i in range(len(self._sentencePos)):\n",
        "      for j in range(len(self._sentencePos[i])):\n",
        "        vocab = self._sentencePos[i][j][0]\n",
        "        pos = self._sentencePos[i][j][1] \n",
        "        self._emissionProb[vocab.lower()].loc[pos] += 1\n",
        "\n",
        "    self._emissionProb = self._emissionProb.div(self._emissionProb.sum(axis=1), axis=0)\n",
        "    print(\"Done!\")\n",
        "\n",
        "  def smoothMatrix(self):\n",
        "    self._transitionProb = self._transitionProb.replace(0, 0.0001607717041800643/2)\n",
        "\n",
        "  def countProb(self, prevTag, currentTag, word):\n",
        "    return self._emissionProb[word][currentTag] * self._transitionProb[currentTag][prevTag]\n",
        "\n",
        "  def tokenizeAndTranspose(self, sentence):\n",
        "    tokenized = [token.split(\"_\") for token in sentence.split()]\n",
        "    transposed = [list(i) for i in zip(*tokenized)]\n",
        "    return transposed\n",
        "  \n",
        "  def tokenize(self, sentence):\n",
        "    tokenized = [token.split(\"_\") for token in sentence.split()]\n",
        "    return tokenized\n",
        "\n",
        "  def startEndMarker(self, sentence):\n",
        "    return str(\"<s>_<S> \") + sentence + str(\" </s>_</S>\")\n",
        "\n",
        "  def countPosTagAndVocab(self):\n",
        "    temp = []\n",
        "    for i in range(len(self._sentenceSentencePosPos)):\n",
        "      temp += self._sentenceSentencePosPos[i][1]\n",
        "\n",
        "    posList = dict((x, temp.count(x)) for x in set(temp))  \n",
        "    self._posList = list(posList.keys())\n",
        "\n",
        "    temp = []\n",
        "    for i in range(len(self._sentenceSentencePosPos)):\n",
        "      temp += self._sentenceSentencePosPos[i][0]\n",
        "\n",
        "    vocabList = dict((x.lower(), temp.count(x.lower())) for x in set(temp))  \n",
        "    self._vocabList = [vocab.lower() for vocab in list(vocabList.keys())]\n",
        "    \n",
        "  def fit(self, data):\n",
        "    self._data = data.copy().swifter.apply(self.startEndMarker)\n",
        "    self._sentencePos = [self.tokenize(sentence) for sentence in self._data[\"text\"].values]\n",
        "    self._sentenceSentencePosPos = [self.tokenizeAndTranspose(sentence) for sentence in self._data[\"text\"].values] \n",
        "\n",
        "    self.countPosTagAndVocab()\n",
        "    self.initiateMatrix()\n",
        "    self.smoothMatrix()\n",
        "\n",
        "  def accuracy(self):\n",
        "    correctCount = 0\n",
        "    totalCount = 0\n",
        "    for i in range(len(self._predictionList)):\n",
        "      prediction = self._predictionList[i][1:-1]\n",
        "      actual = self._sentenceSentencePosPosPredict[i][1][1:-1]\n",
        "      \n",
        "      for j in range(len(prediction)):\n",
        "        totalCount += 1\n",
        "        if prediction[j] == actual[j]: correctCount += 1\n",
        "\n",
        "    return correctCount / totalCount\n",
        "\n",
        "  def predict(self, data, dataFrame = True, printStep = False, getResult = False):\n",
        "    print(\"preprocessing data\")\n",
        "    self._predictionList = []\n",
        "\n",
        "    if dataFrame:\n",
        "      self._predictData = data.copy().swifter.apply(self.startEndMarker)\n",
        "      self._sentenceSentencePosPosPredict = [self.tokenizeAndTranspose(sentence) for sentence in self._predictData[\"text\"].values]\n",
        "    else:\n",
        "      rebuildSentence = \"\"\n",
        "      preprocessedData = \"<s> \" + data + \" </s>\" \n",
        "      preprocessedData = preprocessedData.split()\n",
        "      preprocessedData = [pdat + \"_MASK\" for pdat in preprocessedData]\n",
        "\n",
        "      for i in preprocessedData:\n",
        "        rebuildSentence = rebuildSentence + i + \" \"\n",
        "\n",
        "      rebuildSentence.strip() \n",
        "      self._sentenceSentencePosPosPredict = [self.tokenizeAndTranspose(sentence) for sentence in [rebuildSentence]]\n",
        "\n",
        "    self._sentencePredict = [sentence[0] for sentence in self._sentenceSentencePosPosPredict]\n",
        "    self._sentenceTag = [sentence[1] for sentence in self._sentenceSentencePosPosPredict]\n",
        "\n",
        "    \n",
        "    \n",
        "    for i in range(len(self._sentencePredict)):\n",
        "      for j in range(len(self._sentencePredict[i])):\n",
        "        if self._sentencePredict[i][j].lower() not in self._emissionProb.columns:\n",
        "          self._emissionProb[self._sentencePredict[i][j].lower()] = 1\n",
        "          self._emissionProb[self._sentencePredict[i][j].lower()]['<S>'] = 0\n",
        "          self._emissionProb[self._sentencePredict[i][j].lower()]['</S>'] = 0\n",
        "    print(\"Done!\")\n",
        "\n",
        "    print(\"Processing HMM\")\n",
        "    for i in range(len(self._sentencePredict)):\n",
        "      listPath = []\n",
        "      listProb = []\n",
        "\n",
        "      for j in range(len(self._sentencePredict[i])):\n",
        "        tempProb = []\n",
        "        tempPath = []\n",
        "\n",
        "        if j == 0:\n",
        "          listPath.append(['<S>'])\n",
        "          listProb.append(1)\n",
        "        else:  \n",
        "          prevKeyword = self._sentencePredict[i][j-1].lower()\n",
        "          currentKeyword = self._sentencePredict[i][j].lower()\n",
        "          prevTag = [prev[-1] for prev in listPath] \n",
        "          currentTag = self._emissionProb[currentKeyword][self._emissionProb[currentKeyword] > 0].index.to_list()\n",
        "\n",
        "          for k in range(len(currentTag)):\n",
        "            bestProb = 0\n",
        "            bestTag = None\n",
        "            \n",
        "            for l in range(len(prevTag)):\n",
        "              if self.countProb(prevTag[l], currentTag[k], currentKeyword) * listProb[l] > bestProb:\n",
        "                bestProb = self.countProb(prevTag[l], currentTag[k], currentKeyword) * listProb[l]\n",
        "                bestTag = [prevTag[l], currentTag[k]] \n",
        "              if l == len(prevTag)-1:\n",
        "                for path in listPath:\n",
        "                  if path[-1] == prevTag[l]:\n",
        "                    tempPath.append(path[:-1] + bestTag)\n",
        "                    tempProb.append(bestProb)\n",
        "\n",
        "          listPath = tempPath\n",
        "          listProb = tempProb\n",
        "          if printStep is True: print(tempPath, tempProb)\n",
        "\n",
        "      self._predictionList.append(listPath[0])\n",
        "\n",
        "    print(\"Done!\")\n",
        "    if dataFrame: print(\"Accuracy: \", self.accuracy())\n",
        "    if getResult is True: return self.getPrediction(dataFrame)\n",
        "\n",
        "  def getPrediction(self, dataFrame):\n",
        "    predictionHolder = []\n",
        "\n",
        "    for i in range(len(self._predictionList)):\n",
        "      sentenceHolder = \"\"\n",
        "      prediction = self._predictionList[i][1:-1]\n",
        "      word = self._sentenceSentencePosPosPredict[i][0][1:-1]\n",
        "\n",
        "      for j in range(len(prediction)):\n",
        "        sentenceHolder = sentenceHolder + str(word[j]) +\"_\"+ str(prediction[j]) + \" \"\n",
        "\n",
        "      predictionHolder.append(sentenceHolder.strip())\n",
        "    \n",
        "    if dataFrame: \n",
        "      return pd.DataFrame(predictionHolder, columns =['text'])\n",
        "    else:\n",
        "      return predictionHolder[0]\n"
      ],
      "metadata": {
        "id": "6qcdk__B3qax"
      },
      "execution_count": 4,
      "outputs": []
    },
    {
      "cell_type": "markdown",
      "source": [
        "### Train HMM"
      ],
      "metadata": {
        "id": "TY0lvspkhP-g"
      }
    },
    {
      "cell_type": "code",
      "source": [
        "hmm = HMM()\n",
        "hmm.fit(dfTrain)"
      ],
      "metadata": {
        "colab": {
          "base_uri": "https://localhost:8080/"
        },
        "id": "iy-3BERZ2gw2",
        "outputId": "fc90ead2-b528-412d-da91-66cab97afa17"
      },
      "execution_count": 5,
      "outputs": [
        {
          "output_type": "stream",
          "name": "stdout",
          "text": [
            "Initiating transition probability\n",
            "Done!\n",
            "Initiating emission probability\n",
            "Done!\n"
          ]
        }
      ]
    },
    {
      "cell_type": "markdown",
      "source": [
        "### Test HMM"
      ],
      "metadata": {
        "id": "Y0jePw8ahSy_"
      }
    },
    {
      "cell_type": "code",
      "source": [
        "res = hmm.predict(dfTest, dataFrame = True, printStep = False, getResult = True)\n",
        "display(res)"
      ],
      "metadata": {
        "colab": {
          "base_uri": "https://localhost:8080/",
          "height": 1139
        },
        "id": "YjMP7I0mzUyN",
        "outputId": "09dd5f7f-de59-4be4-ba3e-0d62e32e46da"
      },
      "execution_count": 6,
      "outputs": [
        {
          "output_type": "stream",
          "name": "stdout",
          "text": [
            "preprocessing data\n",
            "Done!\n",
            "Processing HMM\n",
            "Done!\n",
            "Accuracy:  0.9062020600482139\n"
          ]
        },
        {
          "output_type": "display_data",
          "data": {
            "text/html": [
              "\n",
              "  <div id=\"df-8267509b-89c0-4120-9d79-d80a0c503a54\">\n",
              "    <div class=\"colab-df-container\">\n",
              "      <div>\n",
              "<style scoped>\n",
              "    .dataframe tbody tr th:only-of-type {\n",
              "        vertical-align: middle;\n",
              "    }\n",
              "\n",
              "    .dataframe tbody tr th {\n",
              "        vertical-align: top;\n",
              "    }\n",
              "\n",
              "    .dataframe thead th {\n",
              "        text-align: right;\n",
              "    }\n",
              "</style>\n",
              "<table border=\"1\" class=\"dataframe\">\n",
              "  <thead>\n",
              "    <tr style=\"text-align: right;\">\n",
              "      <th></th>\n",
              "      <th>text</th>\n",
              "    </tr>\n",
              "  </thead>\n",
              "  <tbody>\n",
              "    <tr>\n",
              "      <th>0</th>\n",
              "      <td>In_IN computational_NNP linguistics_NNS ,_, wo...</td>\n",
              "    </tr>\n",
              "    <tr>\n",
              "      <th>1</th>\n",
              "      <td>The_DT solution_NN to_TO this_DT problem_NN im...</td>\n",
              "    </tr>\n",
              "    <tr>\n",
              "      <th>2</th>\n",
              "      <td>Research_NN has_VBZ progressed_VBD steadily_RB...</td>\n",
              "    </tr>\n",
              "    <tr>\n",
              "      <th>3</th>\n",
              "      <td>A_DT rich_JJ variety_NN of_IN techniques_NNS h...</td>\n",
              "    </tr>\n",
              "    <tr>\n",
              "      <th>4</th>\n",
              "      <td>Among_IN these_DT ,_, supervised_JJ learning_N...</td>\n",
              "    </tr>\n",
              "    <tr>\n",
              "      <th>...</th>\n",
              "      <td>...</td>\n",
              "    </tr>\n",
              "    <tr>\n",
              "      <th>166</th>\n",
              "      <td>WordNet_NNP is_VBZ the_DT most_RBS popular_JJ ...</td>\n",
              "    </tr>\n",
              "    <tr>\n",
              "      <th>167</th>\n",
              "      <td>The_DT reason_NN for_IN adopting_VBG the_DT HE...</td>\n",
              "    </tr>\n",
              "    <tr>\n",
              "      <th>168</th>\n",
              "      <td>Evaluation_NN measures_NNS ._.</td>\n",
              "    </tr>\n",
              "    <tr>\n",
              "      <th>169</th>\n",
              "      <td>During_IN the_DT evaluation_NN of_IN WSD_JJ sy...</td>\n",
              "    </tr>\n",
              "    <tr>\n",
              "      <th>170</th>\n",
              "      <td>This_DT model_NN has_VBZ been_VBN extended_VBN...</td>\n",
              "    </tr>\n",
              "  </tbody>\n",
              "</table>\n",
              "<p>171 rows × 1 columns</p>\n",
              "</div>\n",
              "      <button class=\"colab-df-convert\" onclick=\"convertToInteractive('df-8267509b-89c0-4120-9d79-d80a0c503a54')\"\n",
              "              title=\"Convert this dataframe to an interactive table.\"\n",
              "              style=\"display:none;\">\n",
              "        \n",
              "  <svg xmlns=\"http://www.w3.org/2000/svg\" height=\"24px\"viewBox=\"0 0 24 24\"\n",
              "       width=\"24px\">\n",
              "    <path d=\"M0 0h24v24H0V0z\" fill=\"none\"/>\n",
              "    <path d=\"M18.56 5.44l.94 2.06.94-2.06 2.06-.94-2.06-.94-.94-2.06-.94 2.06-2.06.94zm-11 1L8.5 8.5l.94-2.06 2.06-.94-2.06-.94L8.5 2.5l-.94 2.06-2.06.94zm10 10l.94 2.06.94-2.06 2.06-.94-2.06-.94-.94-2.06-.94 2.06-2.06.94z\"/><path d=\"M17.41 7.96l-1.37-1.37c-.4-.4-.92-.59-1.43-.59-.52 0-1.04.2-1.43.59L10.3 9.45l-7.72 7.72c-.78.78-.78 2.05 0 2.83L4 21.41c.39.39.9.59 1.41.59.51 0 1.02-.2 1.41-.59l7.78-7.78 2.81-2.81c.8-.78.8-2.07 0-2.86zM5.41 20L4 18.59l7.72-7.72 1.47 1.35L5.41 20z\"/>\n",
              "  </svg>\n",
              "      </button>\n",
              "      \n",
              "  <style>\n",
              "    .colab-df-container {\n",
              "      display:flex;\n",
              "      flex-wrap:wrap;\n",
              "      gap: 12px;\n",
              "    }\n",
              "\n",
              "    .colab-df-convert {\n",
              "      background-color: #E8F0FE;\n",
              "      border: none;\n",
              "      border-radius: 50%;\n",
              "      cursor: pointer;\n",
              "      display: none;\n",
              "      fill: #1967D2;\n",
              "      height: 32px;\n",
              "      padding: 0 0 0 0;\n",
              "      width: 32px;\n",
              "    }\n",
              "\n",
              "    .colab-df-convert:hover {\n",
              "      background-color: #E2EBFA;\n",
              "      box-shadow: 0px 1px 2px rgba(60, 64, 67, 0.3), 0px 1px 3px 1px rgba(60, 64, 67, 0.15);\n",
              "      fill: #174EA6;\n",
              "    }\n",
              "\n",
              "    [theme=dark] .colab-df-convert {\n",
              "      background-color: #3B4455;\n",
              "      fill: #D2E3FC;\n",
              "    }\n",
              "\n",
              "    [theme=dark] .colab-df-convert:hover {\n",
              "      background-color: #434B5C;\n",
              "      box-shadow: 0px 1px 3px 1px rgba(0, 0, 0, 0.15);\n",
              "      filter: drop-shadow(0px 1px 2px rgba(0, 0, 0, 0.3));\n",
              "      fill: #FFFFFF;\n",
              "    }\n",
              "  </style>\n",
              "\n",
              "      <script>\n",
              "        const buttonEl =\n",
              "          document.querySelector('#df-8267509b-89c0-4120-9d79-d80a0c503a54 button.colab-df-convert');\n",
              "        buttonEl.style.display =\n",
              "          google.colab.kernel.accessAllowed ? 'block' : 'none';\n",
              "\n",
              "        async function convertToInteractive(key) {\n",
              "          const element = document.querySelector('#df-8267509b-89c0-4120-9d79-d80a0c503a54');\n",
              "          const dataTable =\n",
              "            await google.colab.kernel.invokeFunction('convertToInteractive',\n",
              "                                                     [key], {});\n",
              "          if (!dataTable) return;\n",
              "\n",
              "          const docLinkHtml = 'Like what you see? Visit the ' +\n",
              "            '<a target=\"_blank\" href=https://colab.research.google.com/notebooks/data_table.ipynb>data table notebook</a>'\n",
              "            + ' to learn more about interactive tables.';\n",
              "          element.innerHTML = '';\n",
              "          dataTable['output_type'] = 'display_data';\n",
              "          await google.colab.output.renderOutput(dataTable, element);\n",
              "          const docLink = document.createElement('div');\n",
              "          docLink.innerHTML = docLinkHtml;\n",
              "          element.appendChild(docLink);\n",
              "        }\n",
              "      </script>\n",
              "    </div>\n",
              "  </div>\n",
              "  "
            ],
            "text/plain": [
              "                                                  text\n",
              "0    In_IN computational_NNP linguistics_NNS ,_, wo...\n",
              "1    The_DT solution_NN to_TO this_DT problem_NN im...\n",
              "2    Research_NN has_VBZ progressed_VBD steadily_RB...\n",
              "3    A_DT rich_JJ variety_NN of_IN techniques_NNS h...\n",
              "4    Among_IN these_DT ,_, supervised_JJ learning_N...\n",
              "..                                                 ...\n",
              "166  WordNet_NNP is_VBZ the_DT most_RBS popular_JJ ...\n",
              "167  The_DT reason_NN for_IN adopting_VBG the_DT HE...\n",
              "168                     Evaluation_NN measures_NNS ._.\n",
              "169  During_IN the_DT evaluation_NN of_IN WSD_JJ sy...\n",
              "170  This_DT model_NN has_VBZ been_VBN extended_VBN...\n",
              "\n",
              "[171 rows x 1 columns]"
            ]
          },
          "metadata": {}
        }
      ]
    },
    {
      "cell_type": "code",
      "source": [
        "sentence = \"Natural Language Processing Laboratory in Nara Institute of Science and Technology\"\n",
        "res = hmm.predict(sentence, dataFrame = False, printStep = True, getResult = True)\n",
        "display(res)"
      ],
      "metadata": {
        "colab": {
          "base_uri": "https://localhost:8080/",
          "height": 333
        },
        "id": "hXRY3p1GrKVN",
        "outputId": "94206a0b-e3a1-40df-96dc-906cc3593645"
      },
      "execution_count": 146,
      "outputs": [
        {
          "output_type": "stream",
          "name": "stdout",
          "text": [
            "preprocessing data\n",
            "Done!\n",
            "Processing HMM\n",
            "[['<S>', 'NNP'], ['<S>', 'JJ']] [0.00020810327292744246, 0.00293954353683873]\n",
            "[['<S>', 'NNP', 'NNP'], ['<S>', 'JJ', 'NN']] [3.3719794726192106e-07, 3.063187440033033e-05]\n",
            "[['<S>', 'JJ', 'NN', 'NNP'], ['<S>', 'JJ', 'NN', 'NN'], ['<S>', 'JJ', 'NN', 'VBG']] [3.6559195215154354e-10, 4.243905407647011e-08, 1.8857118931689873e-09]\n",
            "[['<S>', 'JJ', 'NN', 'NN', 'JJS'], ['<S>', 'JJ', 'NN', 'NN', ','], ['<S>', 'JJ', 'NN', 'NN', 'RB'], ['<S>', 'JJ', 'NN', 'NN', '-RRB-'], ['<S>', 'JJ', 'NN', 'NN', 'FW'], ['<S>', 'JJ', 'NN', 'NN', 'PRP'], ['<S>', 'JJ', 'NN', 'NN', \"''\"], ['<S>', 'JJ', 'NN', 'NNP', 'NNPS'], ['<S>', 'JJ', 'NN', 'NN', 'NNP'], ['<S>', 'JJ', 'NN', 'NN', '-LRB-'], ['<S>', 'JJ', 'NN', 'NN', 'POS'], ['<S>', 'JJ', 'NN', 'NN', 'EX'], ['<S>', 'JJ', 'NN', 'NN', 'VBP'], ['<S>', 'JJ', 'NN', 'NN', ':'], ['<S>', 'JJ', 'NN', 'NN', 'LS'], ['<S>', 'JJ', 'NN', 'NN', 'WRB'], ['<S>', 'JJ', 'NN', 'NN', 'IN'], ['<S>', 'JJ', 'NN', 'NN', '.'], ['<S>', 'JJ', 'NN', 'NN', 'UH'], ['<S>', 'JJ', 'NN', 'NN', 'NN'], ['<S>', 'JJ', 'NN', 'NN', 'VB'], ['<S>', 'JJ', 'NN', 'NN', 'WDT'], ['<S>', 'JJ', 'NN', 'VBG', 'RP'], ['<S>', 'JJ', 'NN', 'NN', 'PDT'], ['<S>', 'JJ', 'NN', 'NN', 'VBG'], ['<S>', 'JJ', 'NN', 'NN', 'NNS'], ['<S>', 'JJ', 'NN', 'NN', 'CD'], ['<S>', 'JJ', 'NN', 'VBG', 'DT'], ['<S>', 'JJ', 'NN', 'NN', 'WP'], ['<S>', 'JJ', 'NN', 'NN', 'MD'], ['<S>', 'JJ', 'NN', 'NN', 'CC'], ['<S>', 'JJ', 'NN', 'NN', 'VBZ'], ['<S>', 'JJ', 'NN', 'NN', 'TO'], ['<S>', 'JJ', 'NN', 'NN', 'VBN'], ['<S>', 'JJ', 'NN', 'NN', 'VBD'], ['<S>', 'JJ', 'NN', 'NN', 'RBS'], ['<S>', 'JJ', 'NN', 'NN', 'WP$'], ['<S>', 'JJ', 'NN', 'VBG', 'RBR'], ['<S>', 'JJ', 'NN', 'NN', '``'], ['<S>', 'JJ', 'NN', 'NN', 'JJ'], ['<S>', 'JJ', 'NN', 'VBG', 'PRP$'], ['<S>', 'JJ', 'NN', 'VBG', 'JJR']] [3.4114995238320027e-12, 4.612347356220867e-09, 5.321939257177924e-10, 1.0643878514355848e-09, 1.364599809532801e-11, 8.869898761963207e-11, 5.663089209561125e-10, 4.523335652530015e-12, 2.3198196762057616e-10, 1.1257948428645607e-09, 9.552198666729607e-11, 2.0468997142992015e-11, 3.2068095524020827e-10, 5.936009171467684e-10, 3.4114995238320027e-12, 1.0916798476262409e-10, 8.726615781962262e-09, 3.7048884828815547e-09, 3.4114995238320027e-12, 7.1709719990948695e-09, 8.869898761963207e-11, 5.185479276224645e-10, 1.9340634801733204e-11, 3.4114995238320027e-12, 3.8208794666918427e-10, 3.2409245476404026e-09, 1.1599098381028808e-10, 4.383877221726193e-10, 1.364599809532801e-11, 9.074588733393126e-10, 1.8149177466786253e-09, 2.9202435924001943e-09, 1.371422808580465e-09, 5.253709266701284e-10, 5.936009171467684e-10, 3.4114995238320027e-12, 6.822999047664005e-12, 1.6117195668111003e-11, 9.552198666729607e-11, 5.867779180991045e-10, 1.2893756534488802e-11, 1.2893756534488802e-11]\n",
            "[['<S>', 'JJ', 'NN', 'VBG', '-LRB-', 'FW'], ['<S>', 'JJ', 'NN', 'VBG', 'NN', 'IN']] [1.3971569359056677e-12, 2.4595033912134216e-10]\n",
            "[['<S>', 'JJ', 'NN', 'VBG', 'NN', 'IN', 'JJS'], ['<S>', 'JJ', 'NN', 'VBG', 'NN', 'IN', ','], ['<S>', 'JJ', 'NN', 'VBG', 'NN', 'IN', 'RB'], ['<S>', 'JJ', 'NN', 'VBG', 'NN', 'IN', '-RRB-'], ['<S>', 'JJ', 'NN', 'VBG', 'NN', 'FW', 'FW'], ['<S>', 'JJ', 'NN', 'VBG', 'NN', 'IN', 'PRP'], ['<S>', 'JJ', 'NN', 'VBG', 'NN', 'FW', \"''\"], ['<S>', 'JJ', 'NN', 'VBG', 'NN', 'IN', 'NNPS'], ['<S>', 'JJ', 'NN', 'VBG', 'NN', 'IN', 'NNP'], ['<S>', 'JJ', 'NN', 'VBG', 'NN', 'IN', '-LRB-'], ['<S>', 'JJ', 'NN', 'VBG', 'NN', 'IN', 'POS'], ['<S>', 'JJ', 'NN', 'VBG', 'NN', 'IN', 'EX'], ['<S>', 'JJ', 'NN', 'VBG', 'NN', 'IN', 'VBP'], ['<S>', 'JJ', 'NN', 'VBG', 'NN', 'IN', ':'], ['<S>', 'JJ', 'NN', 'VBG', 'NN', 'IN', 'LS'], ['<S>', 'JJ', 'NN', 'VBG', 'NN', 'IN', 'WRB'], ['<S>', 'JJ', 'NN', 'VBG', 'NN', 'IN', 'IN'], ['<S>', 'JJ', 'NN', 'VBG', 'NN', 'IN', '.'], ['<S>', 'JJ', 'NN', 'VBG', 'NN', 'IN', 'UH'], ['<S>', 'JJ', 'NN', 'VBG', 'NN', 'IN', 'NN'], ['<S>', 'JJ', 'NN', 'VBG', 'NN', 'IN', 'VB'], ['<S>', 'JJ', 'NN', 'VBG', 'NN', 'IN', 'WDT'], ['<S>', 'JJ', 'NN', 'VBG', 'NN', 'IN', 'RP'], ['<S>', 'JJ', 'NN', 'VBG', 'NN', 'IN', 'PDT'], ['<S>', 'JJ', 'NN', 'VBG', 'NN', 'IN', 'VBG'], ['<S>', 'JJ', 'NN', 'VBG', 'NN', 'IN', 'NNS'], ['<S>', 'JJ', 'NN', 'VBG', 'NN', 'IN', 'CD'], ['<S>', 'JJ', 'NN', 'VBG', 'NN', 'IN', 'DT'], ['<S>', 'JJ', 'NN', 'VBG', 'NN', 'IN', 'WP'], ['<S>', 'JJ', 'NN', 'VBG', 'NN', 'IN', 'MD'], ['<S>', 'JJ', 'NN', 'VBG', 'NN', 'IN', 'CC'], ['<S>', 'JJ', 'NN', 'VBG', 'NN', 'IN', 'VBZ'], ['<S>', 'JJ', 'NN', 'VBG', 'NN', 'IN', 'TO'], ['<S>', 'JJ', 'NN', 'VBG', 'NN', 'IN', 'VBN'], ['<S>', 'JJ', 'NN', 'VBG', 'NN', 'IN', 'VBD'], ['<S>', 'JJ', 'NN', 'VBG', 'NN', 'IN', 'RBS'], ['<S>', 'JJ', 'NN', 'VBG', 'NN', 'IN', 'WP$'], ['<S>', 'JJ', 'NN', 'VBG', 'NN', 'IN', 'RBR'], ['<S>', 'JJ', 'NN', 'VBG', 'NN', 'IN', '``'], ['<S>', 'JJ', 'NN', 'VBG', 'NN', 'IN', 'JJ'], ['<S>', 'JJ', 'NN', 'VBG', 'NN', 'IN', 'PRP$'], ['<S>', 'JJ', 'NN', 'VBG', 'NN', 'IN', 'JJR']] [1.2860148450789132e-12, 4.5010519577761965e-13, 2.7649319169196635e-12, 1.9290222676183699e-13, 2.2197820477005933e-13, 4.050946761998577e-12, 2.6115082914124626e-14, 1.977092758210146e-14, 1.2345742512757567e-11, 1.2860148450789133e-13, 1.977092758210146e-14, 6.430074225394566e-13, 1.977092758210146e-14, 1.9290222676183699e-13, 1.977092758210146e-14, 4.5010519577761965e-13, 4.243848988760414e-12, 4.5010519577761965e-13, 1.977092758210146e-14, 4.578212848480931e-11, 6.430074225394567e-14, 2.121924494380207e-12, 1.977092758210146e-14, 5.144059380315653e-13, 1.0416720245139197e-11, 1.9611726387453427e-11, 9.452209111330012e-12, 8.339806270336753e-11, 7.073081647934023e-13, 1.9290222676183699e-13, 5.144059380315653e-13, 4.5010519577761965e-13, 7.073081647934023e-13, 2.3791274633959896e-12, 1.977092758210146e-14, 1.977092758210146e-14, 1.977092758210146e-14, 4.5010519577761965e-13, 2.9578341436815006e-12, 3.485100230163855e-11, 3.022134885935446e-12, 1.0931126183170762e-12]\n",
            "[['<S>', 'JJ', 'NN', 'VBG', 'NN', 'IN', 'NNP', 'NNP']] [2.857756271108408e-15]\n",
            "[['<S>', 'JJ', 'NN', 'VBG', 'NN', 'IN', 'NNP', 'NNP', 'IN']] [4.091302329812631e-17]\n",
            "[['<S>', 'JJ', 'NN', 'VBG', 'NN', 'IN', 'NNP', 'NNP', 'IN', 'NNP'], ['<S>', 'JJ', 'NN', 'VBG', 'NN', 'IN', 'NNP', 'NNP', 'IN', 'NN']] [1.4946676319776717e-21, 1.3468289030575007e-20]\n",
            "[['<S>', 'JJ', 'NN', 'VBG', 'NN', 'IN', 'NNP', 'NNP', 'IN', 'NN', 'CC']] [3.8584195790302694e-22]\n",
            "[['<S>', 'JJ', 'NN', 'VBG', 'NN', 'IN', 'NNP', 'NNP', 'IN', 'NN', 'CC', 'NNP'], ['<S>', 'JJ', 'NN', 'VBG', 'NN', 'IN', 'NNP', 'NNP', 'IN', 'NN', 'CC', 'NN']] [5.953419879124474e-26, 2.6158125408552893e-25]\n",
            "[['<S>', 'JJ', 'NN', 'VBG', 'NN', 'IN', 'NNP', 'NNP', 'IN', 'NN', 'CC', 'NN', '</S>']] [2.1027432000444447e-29]\n",
            "Done!\n"
          ]
        },
        {
          "output_type": "display_data",
          "data": {
            "application/vnd.google.colaboratory.intrinsic+json": {
              "type": "string"
            },
            "text/plain": [
              "'Natural_JJ Language_NN Processing_VBG Laboratory_NN in_IN Nara_NNP Institute_NNP of_IN Science_NN and_CC Technology_NN'"
            ]
          },
          "metadata": {}
        }
      ]
    }
  ]
}